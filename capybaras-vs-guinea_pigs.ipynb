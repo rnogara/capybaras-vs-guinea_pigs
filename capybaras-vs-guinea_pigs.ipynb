import os
import tensorflow as tf
from tensorflow.keras.optimizers import RMSprop
from tensorflow.keras.preprocessing.image import ImageDataGenerator
from shutil import copyfile

!git clone https://github.com/rnogara/capybaras-vs-guinea_pigs